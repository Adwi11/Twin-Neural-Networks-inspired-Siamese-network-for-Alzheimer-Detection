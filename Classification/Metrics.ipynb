{
 "cells": [
  {
   "cell_type": "markdown",
   "id": "literary-sauce",
   "metadata": {},
   "source": [
    "# Confusion matrix for classification"
   ]
  },
  {
   "cell_type": "code",
   "execution_count": null,
   "id": "understood-efficiency",
   "metadata": {},
   "outputs": [],
   "source": [
    "from mlxtend.evaluate import confusion_matrix\n",
    "import matplotlib.pyplot as plt\n",
    "from mlxtend.plotting import plot_confusion_matrix\n",
    "from sklearn.metrics import precision_recall_fscore_support\n",
    "from sklearn.metrics import precision_score\n",
    "from sklearn.metrics import multilabel_confusion_matrix\n",
    "\n",
    "\n",
    "cm = confusion_matrix(y_target=label_test, \n",
    "                      y_predicted=y_pred, \n",
    "                      )\n",
    "x=precision_recall_fscore_support(label_test, y_pred, average=None)\n",
    "for i in range(4):\n",
    "  a,b,c,d=x[i]\n",
    "  print(f\"Class {classes[i]}  Precision:{a} , Recall:{b} , F1-score:{c}\")\n",
    "\n",
    "fig, ax = plot_confusion_matrix(conf_mat=cm)\n",
    "plt.show()"
   ]
  },
  {
   "cell_type": "markdown",
   "id": "residential-storage",
   "metadata": {},
   "source": [
    "# Loss and Accuracy"
   ]
  },
  {
   "cell_type": "code",
   "execution_count": null,
   "id": "prepared-corrections",
   "metadata": {},
   "outputs": [],
   "source": [
    "import matplotlib.pyplot as pyplot\n",
    "# plot loss during training\n",
    "pyplot.subplot(211)\n",
    "pyplot.tight_layout(pad=3.0)\n",
    "pyplot.xlim([0,21])\n",
    "pyplot.ylim([0,6])\n",
    "pyplot.title('Loss')\n",
    "pyplot.plot(history.history['loss'], label='train loss')\n",
    "pyplot.plot(history.history['val_loss'], label='val loss')\n",
    "pyplot.legend()\n",
    "# plot accuracy during training\n",
    "pyplot.subplot(212)\n",
    "pyplot.xlim([0,21])\n",
    "pyplot.ylim([0,1.2])\n",
    "pyplot.title('Accuracy')\n",
    "pyplot.plot(history.history['custom_acc'], label='train')\n",
    "pyplot.plot(history.history['val_custom_acc'], label='test')\n",
    "pyplot.legend()\n",
    "pyplot.show()"
   ]
  },
  {
   "cell_type": "code",
   "execution_count": null,
   "id": "included-coach",
   "metadata": {},
   "outputs": [],
   "source": []
  }
 ],
 "metadata": {
  "kernelspec": {
   "display_name": "Python 3",
   "language": "python",
   "name": "python3"
  },
  "language_info": {
   "codemirror_mode": {
    "name": "ipython",
    "version": 3
   },
   "file_extension": ".py",
   "mimetype": "text/x-python",
   "name": "python",
   "nbconvert_exporter": "python",
   "pygments_lexer": "ipython3",
   "version": "3.7.6"
  }
 },
 "nbformat": 4,
 "nbformat_minor": 5
}
