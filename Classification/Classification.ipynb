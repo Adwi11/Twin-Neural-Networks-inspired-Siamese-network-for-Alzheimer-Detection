{
 "cells": [
  {
   "cell_type": "markdown",
   "id": "industrial-cream",
   "metadata": {},
   "source": [
    "# (4-way-1-shot) Classification"
   ]
  },
  {
   "cell_type": "code",
   "execution_count": null,
   "id": "about-invitation",
   "metadata": {},
   "outputs": [],
   "source": [
    "#(0,1,2,3)--->\"AD\",\"MCI\",\"SMC\",\"NC\"\n",
    "for i in range(13,len(test_features)):\n",
    "  if label_test[i]==1:\n",
    "    print(i)\n",
    "    break\n",
    "#train dataset support imags---->(1,0,5,4)    \n",
    "#test dataset support images---->(6,11,2,0)"
   ]
  },
  {
   "cell_type": "code",
   "execution_count": null,
   "id": "driven-poster",
   "metadata": {},
   "outputs": [],
   "source": [
    "class_images=[6,11,2,0]      #support set\n",
    "classes=[\"AD\",\"MCI\",\"SMC\",\"NC\"]\n",
    "y_pred=[]\n",
    "def classification (query_image):\n",
    "  lst=class_images\n",
    "  preds=[]\n",
    "  for i in lst:\n",
    "    x= model.predict([test_features[[i]], query_image])\n",
    "    preds.append(x)\n",
    "  preds=np.array(preds)\n",
    "  index=np.argmin(preds)\n",
    "  y_pred.append(index)   \n",
    " \n",
    "for i in range(4000):\n",
    "  query=new_test_features[[i]]\n",
    "  classification(query)"
   ]
  }
 ],
 "metadata": {
  "kernelspec": {
   "display_name": "Python 3",
   "language": "python",
   "name": "python3"
  },
  "language_info": {
   "codemirror_mode": {
    "name": "ipython",
    "version": 3
   },
   "file_extension": ".py",
   "mimetype": "text/x-python",
   "name": "python",
   "nbconvert_exporter": "python",
   "pygments_lexer": "ipython3",
   "version": "3.7.6"
  }
 },
 "nbformat": 4,
 "nbformat_minor": 5
}
