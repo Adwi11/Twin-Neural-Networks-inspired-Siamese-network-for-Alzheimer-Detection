{
 "cells": [
  {
   "cell_type": "markdown",
   "id": "median-provider",
   "metadata": {},
   "source": [
    "# Importing libraries "
   ]
  },
  {
   "cell_type": "code",
   "execution_count": null,
   "id": "continent-summary",
   "metadata": {},
   "outputs": [],
   "source": [
    "import os\n",
    "import shutil\n",
    "import nibabel as nib\n",
    "import numpy as np\n",
    "from glob import glob\n",
    "import imageio\n",
    "from termcolor import colored\n",
    "import registration as reg \n",
    "import skull_stripping as ss\n",
    "import enhancement as enh"
   ]
  },
  {
   "cell_type": "markdown",
   "id": "informational-vatican",
   "metadata": {},
   "source": [
    "# Initials"
   ]
  },
  {
   "cell_type": "code",
   "execution_count": null,
   "id": "functioning-washer",
   "metadata": {},
   "outputs": [],
   "source": [
    "def make_dirs(path_lst):\n",
    "    for path in path_lst:\n",
    "        if not os.path.exists(path):\n",
    "            os.makedirs(path)\n",
    "        else:\n",
    "            pass\n",
    "\n",
    "# make outputdir and return output path (including filename) by combining outDir, pt, filename\n",
    "def get_outpath(outDir, pt, filename):\n",
    "    outPath = os.path.join(outDir, pt, filename)\n",
    "\n",
    "    make_dirs([os.path.join(outDir, pt)])\n",
    "\n",
    "    if os.path.exists(outPath):\n",
    "        print('{} already exists'.format(filename))\n",
    "        return None\n",
    "    else:\n",
    "        return outPath\n",
    "    \n",
    "\n",
    "sourceDir = '/media/sf_sharedfolder/Converted'\n",
    "targetDir = '/media/sf_sharedfolder/Output'\n",
    "maskDir = None\n",
    "outputPath = '/media/sf_sharedfolder/MONSTR/Output'\n",
    "\n",
    "resampleDir = os.path.join(targetDir, \"01_Resampled\")\n",
    "correctionDir = os.path.join(targetDir, \"02_Corrected\")\n",
    "registerDir = os.path.join(targetDir, '03_Registered_corrected')\n",
    "strippedDir = os.path.join(targetDir, '04_Stripped_wo_Normalized')\n",
    "enhDir = os.path.join(targetDir, '05_Histogram_Enhancement')\n",
    "znormedDir = os.path.join(targetDir, '06_Stripped_znormalized')\n",
    "sliceDir = os.path.join(targetDir, '07_Slice_Extraction')\n",
    "\n",
    "make_dirs([targetDir, resampleDir, correctionDir, registerDir, enhDir, strippedDir, znormedDir, sliceDir])\n"
   ]
  },
  {
   "cell_type": "markdown",
   "id": "stunning-swaziland",
   "metadata": {},
   "source": [
    "# Resampling "
   ]
  },
  {
   "cell_type": "code",
   "execution_count": null,
   "id": "mediterranean-harvard",
   "metadata": {},
   "outputs": [],
   "source": [
    "total = 0\n",
    "\n",
    "for i, sub in enumerate(os.listdir(sourceDir)):\n",
    "    os.chdir(os.path.join(sourceDir, sub))\n",
    "    for j, scan in enumerate(os.listdir()):\n",
    "        total += 1\n",
    "        path = os.path.dirname(scan)\n",
    "        file = os.path.basename(scan)\n",
    "        print(\"Resampling: #{}, {}\".format(total, file))\n",
    "        pt = path.split(os.path.sep)[-1]\n",
    "        \n",
    "        os.mkdir(os.path.join('/media/sf_sharedfolder/Output/01_Resampled', sub))\n",
    "        resample_outPath = get_outpath(os.path.join(resampleDir, pt, sub), \"\", file)\n",
    "     \n",
    "        if resample_outPath is None:\n",
    "            continue\n",
    "        \n",
    "        os.system(ResampleImage, 3, {scan}, {resample_outPath} ,1x1x1)\n",
    "        os.chdir(sourceDir)\n",
    "\n",
    "print(colored('########## Resampling Completed ##########', 'white', 'on_green'))  \n"
   ]
  },
  {
   "cell_type": "markdown",
   "id": "fiscal-railway",
   "metadata": {},
   "source": [
    "#  N4 Bias Correction"
   ]
  },
  {
   "cell_type": "code",
   "execution_count": null,
   "id": "nearby-cholesterol",
   "metadata": {},
   "outputs": [],
   "source": [
    "total = 0\n",
    "\n",
    "for i, sub in enumerate(os.listdir(resampleDir)):\n",
    "    os.chdir(os.path.join(resampleDir, sub))\n",
    "    for j, scan in enumerate(os.listdir()):\n",
    "        total += 1\n",
    "        path = os.path.dirname(scan)\n",
    "        file = os.path.basename(scan)\n",
    "        print(\"N4 Bias Correction: #{}, {}\".format(total, file))\n",
    "        pt = path.split(os.path.sep)[-1]\n",
    "        \n",
    "        os.mkdir(os.path.join('/media/sf_sharedfolder/Output/02_Corrected', sub))\n",
    "        corr_outPath = get_outpath(os.path.join(correctionDir, pt, sub), \"\", file)\n",
    "     \n",
    "        if corr_outPath is None:\n",
    "            continue\n",
    "        \n",
    "        !N4BiasFieldCorrection -d 3 -i {scan} -o {corr_outPath} -s 3 -c [50x50x50x50,0.00001] -b [150]\n",
    "        os.chdir(resampleDir)\n",
    "\n",
    "print(colored('########## N4 Bias Correction Completed ##########', 'white', 'on_green'))      \n"
   ]
  },
  {
   "cell_type": "markdown",
   "id": "annoying-recording",
   "metadata": {},
   "source": [
    "# Registration"
   ]
  },
  {
   "cell_type": "code",
   "execution_count": null,
   "id": "egyptian-imagination",
   "metadata": {},
   "outputs": [],
   "source": [
    "template = '/media/sf_sharedfolder/Code/MNI152_T1_1mm.nii.gz'\n",
    "total = 0\n",
    "\n",
    "for i, sub in enumerate(os.listdir(correctionDir)):\n",
    "    os.chdir(os.path.join(correctionDir, sub))\n",
    "    for j, scan in enumerate(os.listdir()):\n",
    "        total += 1\n",
    "        path = os.path.dirname(scan)\n",
    "        file = os.path.basename(scan)\n",
    "        print(\"Registering: #{}, {}\".format(total, file))\n",
    "        pt = path.split(os.path.sep)[-1]\n",
    "        \n",
    "        os.mkdir(os.path.join('/media/sf_sharedfolder/Output/03_Registered_corrected', sub))\n",
    "        reg_path = get_outpath(os.path.join(registerDir, pt, sub), \"\", file)\n",
    "     \n",
    "        if reg_path is None:\n",
    "            continue\n",
    "        \n",
    "        reg.registration(scan, reg_path, template)\n",
    "        \n",
    "        \n",
    "        os.chdir(correctionDir)\n",
    "\n",
    "print(colored('########## Registration Completed ##########', 'white', 'on_green'))      \n"
   ]
  },
  {
   "cell_type": "markdown",
   "id": "experimental-tackle",
   "metadata": {},
   "source": [
    "# Skull Stripping "
   ]
  },
  {
   "cell_type": "code",
   "execution_count": null,
   "id": "visible-payday",
   "metadata": {},
   "outputs": [],
   "source": [
    "total = 0\n",
    "\n",
    "for i, sub in enumerate(os.listdir(registerDir)):\n",
    "    os.chdir(os.path.join(registerDir, sub))\n",
    "    for j, scan in enumerate(os.listdir()):\n",
    "        total += 1\n",
    "        path = os.path.dirname(scan)\n",
    "        file = os.path.basename(scan)\n",
    "        print(\"Stripping: #{}, {}\".format(total, file))\n",
    "        pt = path.split(os.path.sep)[-1]\n",
    "        \n",
    "        os.mkdir(os.path.join('/media/sf_sharedfolder/Output/04_Stripped_wo_Normalized', sub))\n",
    "        ss_path = get_outpath(os.path.join(strippedDir, pt, sub), \"\", file)\n",
    "     \n",
    "        if ss_path is None:\n",
    "            continue\n",
    "        \n",
    "        ss.strip_skull(scan, ss_path)\n",
    "        \n",
    "        os.chdir(registerDir)\n",
    "\n",
    "print(colored('########## Skull Stripping Completed ##########', 'white', 'on_green'))          \n"
   ]
  },
  {
   "cell_type": "markdown",
   "id": "former-invasion",
   "metadata": {},
   "source": [
    "# ZScore Normalization"
   ]
  },
  {
   "cell_type": "code",
   "execution_count": null,
   "id": "loaded-welsh",
   "metadata": {},
   "outputs": [],
   "source": [
    "total = 0\n",
    "\n",
    "for i, sub in enumerate(os.listdir(strippedDir)):\n",
    "    os.chdir(os.path.join(strippedDir, sub))\n",
    "    for j, scan in enumerate(os.listdir()):\n",
    "        total += 1\n",
    "        path = os.path.dirname(scan)\n",
    "        file = os.path.basename(scan)\n",
    "        print(\"Slice Extraction: #{}, {}\".format(total, file))\n",
    "        pt = path.split(os.path.sep)[-1]\n",
    "        \n",
    "        os.mkdir(os.path.join('/media/sf_sharedfolder/Output/06_Stripped_znormalized', sub))\n",
    "        z_path = get_outpath(os.path.join(znormedDir, pt, sub), \"\", file)\n",
    "     \n",
    "        if z_path is None:\n",
    "            continue\n",
    "        \n",
    "        img_nii = nib.load(os.path.join(path, scan))\n",
    "        img_data = img_nii.get_data()\n",
    "        mean, std = np.mean(img_data), np.std(img_data)\n",
    "        normalized = nib.Nifti1Image((img_data - mean) / std, img_nii.affine, img_nii.header)\n",
    "        nib.save(normalized, z_path)\n",
    "        \n",
    "        os.chdir(strippedDir)\n",
    "\n",
    "print(colored('########## ZScore Normalization Completed ##########', 'white', 'on_green'))  \n"
   ]
  },
  {
   "cell_type": "markdown",
   "id": "numerical-scotland",
   "metadata": {},
   "source": [
    "# Slice Extraction"
   ]
  },
  {
   "cell_type": "code",
   "execution_count": null,
   "id": "cooperative-diary",
   "metadata": {},
   "outputs": [],
   "source": [
    "total = 0\n",
    "\n",
    "for i, sub in enumerate(os.listdir(znormedDir)):\n",
    "    os.chdir(os.path.join(znormedDir, sub))\n",
    "    for j, scan in enumerate(os.listdir()):\n",
    "        total += 1\n",
    "        path = os.path.dirname(scan)\n",
    "        file = os.path.basename(scan)\n",
    "        print(\"Slice Extraction: #{}, {}\".format(total, file))\n",
    "        pt = path.split(os.path.sep)[-1]\n",
    "        \n",
    "        os.mkdir(os.path.join('/media/sf_sharedfolder/Output/07_Slice_Extraction', sub))\n",
    "        slice_path = get_outpath(os.path.join(sliceDir, pt, sub), \"\", file)\n",
    "     \n",
    "        if slice_path is None:\n",
    "            continue\n",
    "        \n",
    "        img_nii = nib.load(os.path.join(path, scan))\n",
    "        img_data = img_nii.get_fdata()\n",
    "        \n",
    "        (x, y, z) = img_data.shape\n",
    "        mid = x//2\n",
    "        \n",
    "        for k in range(mid-7, mid+7):\n",
    "            slice = img_data[:, :, k]\n",
    "            \n",
    "            imageio.imwrite(os.path.join(sliceDir, sub, '{}.png'.format(sub + \"_\" + str(k))), slice)\n",
    "            \n",
    "        \n",
    "        os.chdir(znormedDir)\n",
    "\n",
    "print(colored('########## Slice Extraction Completed ##########', 'white', 'on_green'))  \n"
   ]
  }
 ],
 "metadata": {
  "kernelspec": {
   "display_name": "Python 3",
   "language": "python",
   "name": "python3"
  },
  "language_info": {
   "codemirror_mode": {
    "name": "ipython",
    "version": 3
   },
   "file_extension": ".py",
   "mimetype": "text/x-python",
   "name": "python",
   "nbconvert_exporter": "python",
   "pygments_lexer": "ipython3",
   "version": "3.7.6"
  }
 },
 "nbformat": 4,
 "nbformat_minor": 5
}
