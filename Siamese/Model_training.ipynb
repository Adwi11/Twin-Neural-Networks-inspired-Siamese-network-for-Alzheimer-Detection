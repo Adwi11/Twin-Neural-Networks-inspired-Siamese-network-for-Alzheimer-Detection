{
 "cells": [
  {
   "cell_type": "markdown",
   "id": "vietnamese-halifax",
   "metadata": {},
   "source": [
    "# Imports"
   ]
  },
  {
   "cell_type": "code",
   "execution_count": null,
   "id": "inside-microwave",
   "metadata": {},
   "outputs": [],
   "source": [
    "import tensorflow as tf\n",
    "from tensorflow.keras.models import Model\n",
    "from tensorflow.keras.layers import Input, Flatten, Dense, Dropout, Lambda, BatchNormalization\n",
    "from tensorflow.keras.optimizers import RMSprop, Adam, SGD\n",
    "from tensorflow.keras.datasets import fashion_mnist\n",
    "from tensorflow.python.keras.utils.vis_utils import plot_model\n",
    "from tensorflow.keras import backend as K\n",
    "from keras.regularizers import l2\n",
    "\n",
    "\n",
    "import numpy as np\n",
    "import matplotlib.pyplot as plt\n",
    "from PIL import Image, ImageFont, ImageDraw\n",
    "import random\n",
    "from keras.layers import GaussianNoise"
   ]
  },
  {
   "cell_type": "markdown",
   "id": "passive-choir",
   "metadata": {},
   "source": [
    "# Loading data"
   ]
  },
  {
   "cell_type": "code",
   "execution_count": null,
   "id": "graphic-finish",
   "metadata": {},
   "outputs": [],
   "source": [
    "tr_pairs = np.load('features_pca_train_pairs_normalized.npy')\n",
    "train_y = np.load('features_pca_train_y_norm.npy')\n",
    "train_y=train_y.astype('float32') \n",
    "\n",
    "ts_pairs = np.load('features_pca_test_pairs_normalized.npy')\n",
    "test_y = np.load('features_pca_test_y_norm.npy') \n",
    "test_y=test_y.astype('float32')"
   ]
  },
  {
   "cell_type": "markdown",
   "id": "apart-portrait",
   "metadata": {},
   "source": [
    "# Base Network"
   ]
  },
  {
   "cell_type": "code",
   "execution_count": null,
   "id": "outstanding-magnet",
   "metadata": {},
   "outputs": [],
   "source": [
    "with tf.device('/CPU:0'):\n",
    "        \n",
    "    def initialize_base_network():\n",
    "        \n",
    "        input = Input(shape=(4000), name=\"base_input\")\n",
    "        \n",
    "        x = Dense(512, activation='relu', name=\"first_base_dense\")(input)\n",
    "        x = Dropout(0.3, name=\"first_dropout\")(x)\n",
    "        x=GaussianNoise(0.3)(x)\n",
    "        x = Dense(512, activation='relu', name=\"second_base_dense\")(x)\n",
    "        x = Dropout(0.3, name=\"second_dropout\")(x)\n",
    "        x = Dense(512, activation='relu', name=\"third_base_dense\")(x)\n",
    "       \n",
    "    \n",
    "        return Model(inputs=input, outputs=x)\n",
    "    \n",
    "    \n",
    "    def euclidean_distance(vects):\n",
    "        x, y = vects\n",
    "        sum_square = K.sum(K.square(x - y), axis=1, keepdims=True)\n",
    "        return K.sqrt(K.maximum(sum_square, K.epsilon()))\n",
    "    \n",
    "    \n",
    "    def eucl_dist_output_shape(shapes):\n",
    "        shape1, shape2 = shapes\n",
    "        return (shape1[0], 1)\n",
    "    \n",
    "    \n",
    "    base_network = initialize_base_network()\n",
    "    \n",
    "    # create the left input and point to the base network\n",
    "    input_a = Input(shape=(4000), name=\"left_input\")\n",
    "    vect_output_a = base_network(input_a)\n",
    "    \n",
    "    # create the right input and point to the base network\n",
    "    input_b = Input(shape=(4000), name=\"right_input\")\n",
    "    vect_output_b = base_network(input_b)\n",
    "    \n",
    "    # measure the similarity of the two vector outputs\n",
    "    output = Lambda(euclidean_distance, name=\"output_layer\", output_shape=eucl_dist_output_shape)([vect_output_a, vect_output_b])\n",
    "    \n",
    "    # specify the inputs and output of the model\n",
    "    model = Model([input_a, input_b], output)"
   ]
  },
  {
   "cell_type": "markdown",
   "id": "widespread-italian",
   "metadata": {},
   "source": [
    "# Contrastive loss"
   ]
  },
  {
   "cell_type": "code",
   "execution_count": null,
   "id": "preliminary-serial",
   "metadata": {},
   "outputs": [],
   "source": [
    "def contrastive_loss_with_margin(margin):\n",
    "    def contrastive_loss(y_true, y_pred):\n",
    "        square_pred = K.square(y_pred)\n",
    "        margin_square = K.square(K.maximum(margin - y_pred, 0))\n",
    "        return K.mean(y_true * square_pred + (1 - y_true) * margin_square)\n",
    "    return contrastive_loss"
   ]
  },
  {
   "cell_type": "markdown",
   "id": "false-blackberry",
   "metadata": {},
   "source": [
    "# Custom metric function"
   ]
  },
  {
   "cell_type": "code",
   "execution_count": null,
   "id": "necessary-approval",
   "metadata": {},
   "outputs": [],
   "source": [
    "def custom_acc(y_true, y_pred):\n",
    "    pred = y_pred < 0.5\n",
    "    x=tf.cast(y_true,tf.bool)  \n",
    "    return K.mean(pred == x)\n",
    "\n",
    "class myCallback(tf.keras.callbacks.Callback): \n",
    "    def on_epoch_end(self, epoch, logs={}): \n",
    "        if(logs.get('custom_acc') > 0.96):\n",
    "        \n",
    "          self.model.stop_training = True"
   ]
  },
  {
   "cell_type": "markdown",
   "id": "affiliated-argument",
   "metadata": {},
   "source": [
    "# Training"
   ]
  },
  {
   "cell_type": "code",
   "execution_count": null,
   "id": "medieval-cemetery",
   "metadata": {},
   "outputs": [],
   "source": [
    "with tf.device('/CPU:0'):\n",
    "    \n",
    "    rms = RMSprop()\n",
    "    opt=Adam()\n",
    "    model.compile(loss = contrastive_loss_with_margin(margin =1), optimizer = opt, metrics = [custom_acc])\n",
    "    callbackss = myCallback()\n",
    "    history = model.fit([tr_pairs[:, 0], tr_pairs[:, 1]], train_y, epochs = 200, batch_size = 128, validation_data=([ts_pairs[:, 0], ts_pairs[:, 1]], test_y),callbacks=[callbackss])   "
   ]
  }
 ],
 "metadata": {
  "kernelspec": {
   "display_name": "Python 3",
   "language": "python",
   "name": "python3"
  },
  "language_info": {
   "codemirror_mode": {
    "name": "ipython",
    "version": 3
   },
   "file_extension": ".py",
   "mimetype": "text/x-python",
   "name": "python",
   "nbconvert_exporter": "python",
   "pygments_lexer": "ipython3",
   "version": "3.7.6"
  }
 },
 "nbformat": 4,
 "nbformat_minor": 5
}
